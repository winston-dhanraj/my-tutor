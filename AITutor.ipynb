{
 "cells": [
  {
   "cell_type": "code",
   "execution_count": null,
   "metadata": {},
   "outputs": [],
   "source": [
    "# Lets import all required libraries\n",
    "import os\n",
    "import requests\n",
    "import json\n",
    "from typing import List\n",
    "from dotenv import load_dotenv\n",
    "from IPython.display import Markdown, display, update_display\n",
    "from openai import OpenAI\n"
   ]
  },
  {
   "cell_type": "code",
   "execution_count": 20,
   "metadata": {},
   "outputs": [
    {
     "name": "stdout",
     "output_type": "stream",
     "text": [
      "API key looks good so far\n"
     ]
    }
   ],
   "source": [
    "# Initialize and constants\n",
    "\n",
    "load_dotenv(override=True)\n",
    "api_key = os.getenv('OPENAI_API_KEY')\n",
    "\n",
    "if api_key and api_key.startswith('sk-proj-') and len(api_key)>10:\n",
    "    print(\"API key looks good so far\")\n",
    "else:\n",
    "    print(\"There might be a problem with your API key? Please visit the troubleshooting notebook!\")\n",
    "    \n",
    "MODEL_GPT = 'gpt-4o-mini'\n",
    "MODEL_LLAMA = 'llama3.2'\n",
    "\n",
    "openai = OpenAI()\n",
    "ollama_via_openai = OpenAI(base_url='http://localhost:11434/v1', api_key='ollama')"
   ]
  },
  {
   "cell_type": "code",
   "execution_count": 4,
   "metadata": {},
   "outputs": [],
   "source": [
    "# Define our system prompt - you can experiment with this later, changing the last sentence to 'Respond in markdown in Spanish.\"\n",
    "\n",
    "system_prompt = \"You are a Technical expert that specializes in Computer programming \\\n",
    "languages like Python, Javascript and Java while also having expertise in Data science and AL-ML and \\\n",
    "provides detailed explanations of code and concepts. \\\n",
    "Respond in markdown.\""
   ]
  },
  {
   "cell_type": "code",
   "execution_count": 6,
   "metadata": {},
   "outputs": [],
   "source": [
    "\n",
    "def messages_for(question):\n",
    "    return [\n",
    "        {\"role\": \"system\", \"content\": system_prompt},\n",
    "        {\"role\": \"user\", \"content\": question}\n",
    "    ]"
   ]
  },
  {
   "cell_type": "code",
   "execution_count": 9,
   "metadata": {},
   "outputs": [],
   "source": [
    "def answer_openai(question):\n",
    "    response = openai.chat.completions.create(\n",
    "        model = MODEL_GPT,\n",
    "        messages = messages_for(question)\n",
    "    )\n",
    "    result = response.choices[0].message.content\n",
    "    display(Markdown(result))"
   ]
  },
  {
   "cell_type": "code",
   "execution_count": 14,
   "metadata": {},
   "outputs": [],
   "source": [
    "def answer_openai_stream(question):\n",
    "    stream = openai.chat.completions.create(\n",
    "        model=MODEL_GPT,\n",
    "        messages=[\n",
    "            {\"role\": \"system\", \"content\": system_prompt},\n",
    "            {\"role\": \"user\", \"content\": question}\n",
    "          ],\n",
    "        stream=True\n",
    "    )\n",
    "    \n",
    "    response = \"\"\n",
    "    display_handle = display(Markdown(\"\"), display_id=True)\n",
    "    for chunk in stream:\n",
    "        response += chunk.choices[0].delta.content or ''\n",
    "        response = response.replace(\"```\",\"\").replace(\"markdown\", \"\")\n",
    "        update_display(Markdown(response), display_id=display_handle.display_id)"
   ]
  },
  {
   "cell_type": "code",
   "execution_count": 17,
   "metadata": {},
   "outputs": [],
   "source": [
    "def answer_ollama_stream(question):\n",
    "    stream = ollama_via_openai.chat.completions.create(\n",
    "        model=MODEL_LLAMA,\n",
    "        messages=[\n",
    "            {\"role\": \"system\", \"content\": system_prompt},\n",
    "            {\"role\": \"user\", \"content\": question}\n",
    "          ],\n",
    "        stream=True\n",
    "    )\n",
    "    \n",
    "    response = \"\"\n",
    "    display_handle = display(Markdown(\"\"), display_id=True)\n",
    "    for chunk in stream:\n",
    "        response += chunk.choices[0].delta.content or ''\n",
    "        response = response.replace(\"```\",\"\").replace(\"markdown\", \"\")\n",
    "        update_display(Markdown(response), display_id=display_handle.display_id)"
   ]
  },
  {
   "cell_type": "code",
   "execution_count": 18,
   "metadata": {},
   "outputs": [
    {
     "data": {
      "text/markdown": [
       "In Python, both lists and tuples are used to store collections of items. However, they have several important differences that affect how they can be used in a program. Below are the key distinctions between lists and tuples:\n",
       "\n",
       "### 1. **Mutability**\n",
       "\n",
       "- **List**: Lists are mutable, which means you can modify them after their creation. You can add, remove, or change items in a list.\n",
       "  \n",
       "  python\n",
       "  my_list = [1, 2, 3]\n",
       "  my_list[1] = 5  # Changing the second element\n",
       "  my_list.append(4)  # Adding a new element\n",
       "  print(my_list)  # Output: [1, 5, 3, 4]\n",
       "  \n",
       "\n",
       "- **Tuple**: Tuples are immutable, meaning that once they are created, you cannot change their contents. You cannot add or remove items from a tuple.\n",
       "  \n",
       "  python\n",
       "  my_tuple = (1, 2, 3)\n",
       "  # my_tuple[1] = 5  # This will raise a TypeError\n",
       "  \n",
       "\n",
       "### 2. **Syntax**\n",
       "\n",
       "- **List**: Lists are created using square brackets `[]`.\n",
       "\n",
       "  python\n",
       "  my_list = [1, 2, 3]\n",
       "  \n",
       "\n",
       "- **Tuple**: Tuples are created using parentheses `()`.\n",
       "\n",
       "  python\n",
       "  my_tuple = (1, 2, 3)\n",
       "  \n",
       "\n",
       "### 3. **Performance**\n",
       "\n",
       "- **List**: Lists have more overhead associated with their dynamic resizing, and they are generally slower than tuples.\n",
       "\n",
       "- **Tuple**: Tuples are more memory efficient and have a slight performance advantage since they are immutable. This can lead to faster access times.\n",
       "\n",
       "### 4. **Use Cases**\n",
       "\n",
       "- **List**: Commonly used when you need a collection of items that may change throughout the lifecycle of the program, such as a list of user inputs or a collection of items that needs to grow or shrink.\n",
       "\n",
       "- **Tuple**: Typically used for fixed collections of items, such as coordinates (x, y), RGB values, or when you need to return multiple values from a function.\n",
       "\n",
       "### 5. **Functions and Methods**\n",
       "\n",
       "- **List**: Lists come with many built-in methods such as `append()`, `remove()`, `extend()`, and `pop()` that enable modification.\n",
       "\n",
       "  python\n",
       "  my_list.remove(2)  # Removes the first occurrence of 2\n",
       "  \n",
       "\n",
       "- **Tuple**: Tuples have fewer built-in methods. You can use methods like `count()` and `index()`, but you cannot modify the tuple.\n",
       "\n",
       "  python\n",
       "  print(my_tuple.count(1))  # Outputs the number of occurrences of 1\n",
       "  \n",
       "\n",
       "### 6. **Hashability**\n",
       "\n",
       "- **List**: Lists are not hashable, which means they cannot be used as keys in dictionaries or elements in sets.\n",
       "\n",
       "- **Tuple**: Tuples are hashable (as long as they contain only hashable elements) and can therefore be used as keys in dictionaries or stored in sets.\n",
       "\n",
       "### Example\n",
       "\n",
       "Here's a brief comparison in code:\n",
       "\n",
       "python\n",
       "# List example\n",
       "list_example = [1, 2, 3]\n",
       "list_example.append(4)  # Modify list\n",
       "print(list_example)  # Output: [1, 2, 3, 4]\n",
       "\n",
       "# Tuple example\n",
       "tuple_example = (1, 2, 3)\n",
       "# tuple_example.append(4)  # This would raise an AttributeError\n",
       "print(tuple_example)  # Output: (1, 2, 3)\n",
       "\n",
       "\n",
       "### Summary\n",
       "\n",
       "In summary, lists are mutable, ordered collections enclosed in square brackets, while tuples are immutable, ordered collections enclosed in parentheses. The choice between using a list or a tuple depends on whether you need a collection that can change or one that should remain constant."
      ],
      "text/plain": [
       "<IPython.core.display.Markdown object>"
      ]
     },
     "metadata": {},
     "output_type": "display_data"
    }
   ],
   "source": [
    "question = \"What is the difference between a list and a tuple in Python?\"\n",
    "answer_openai_stream(question)"
   ]
  },
  {
   "cell_type": "code",
   "execution_count": 21,
   "metadata": {},
   "outputs": [
    {
     "data": {
      "text/markdown": [
       "**Code Explanation**\n",
       "===============\n",
       "\n",
       "The provided code snippet utilizes a combination of Python's `yield` keyword, dictionaries (`book`, `books`), and list comprehensions to extract author names from a collection of book objects.\n",
       "\n",
       "python\n",
       "yield from {book.get(\"author\") for book in books if book.get(\"author\")}\n",
       "\n",
       "\n",
       "**Breaking Down the Code**\n",
       "-------------------------\n",
       "\n",
       "*   **`yield from`**: This is an expression that deconstructs an iterable, like a list or another generator. It yields each element from the contained iterable, rather than simply copying the iterable and yielding from it.\n",
       "\n",
       "*   `{...}`: This denotes a dictionary comprehension, which creates a new dictionary from an existing dictionary comprehension.\n",
       "\n",
       "*   `book.get(\"author\")`: For each book object (`book`), this selects the \"value\" associated with the key `\"author\"` in that book's dictionary representation. The `.get()` method is used instead of `.keys()`, `.values()`, or `.items()`, as it allows us to specify a default value if the key doesn't exist.\n",
       "\n",
       "*   `for book in books`: This specifies our iterator over a collection of book objects (`books`).\n",
       "\n",
       "*   `if book.get(\"author\")`: We include only those books where there exists an `\"author\"` in the dictionary representation. The `.get()` method will return `None`, which is considered \"falsy,\" so it wouldn't appear in our iteration.\n",
       "\n",
       "**Example Use Case:**\n",
       "--------------------\n",
       "\n",
       "Let's create a few examples of books and use them to understand how this code works:\n",
       "\n",
       "python\n",
       "import json\n",
       "\n",
       "class Book:\n",
       "    def __init__(self, id, title, author):\n",
       "        self.id = id\n",
       "        self.title = title\n",
       "        self.author = author\n",
       "\n",
       "books = [\n",
       "    Book(1, \"To Kill a Mockingbird\", \"Harper Lee\"),\n",
       "    Book(2, \"1984\", None),\n",
       "    Book(3, \"Pride and Prejudice\", \"Jane Austen\"),\n",
       "]\n",
       "\n",
       "# Convert our list of books into a dictionary representation\n",
       "books_dict = [{key: value for key, value in book.__dict__.items() if not key.endswith('_')} for book in books]\n",
       "\n",
       "yield from {book.get(\"author\") for book in books_dict if book and 'author' in book}\n",
       "\n",
       "\n",
       "**Output:**\n",
       "---------\n",
       "\n",
       "When you run the code above, it will output:\n",
       "\n",
       "python\n",
       "{'Harper Lee', None, 'Jane Austen'}\n",
       "\n",
       "\n",
       "Each dictionary contained in `books_dict` has all its property names except the ones ending with `_`. The outer expression generates an iterator of only those who actually contain `\"author\"` as a key."
      ],
      "text/plain": [
       "<IPython.core.display.Markdown object>"
      ]
     },
     "metadata": {},
     "output_type": "display_data"
    }
   ],
   "source": [
    "question = \"\"\"Please explain what this code does and why:\n",
    "yield from {book.get(\"author\") for book in books if book.get(\"author\")}\"\"\"\n",
    "answer_ollama_stream(question)"
   ]
  },
  {
   "cell_type": "code",
   "execution_count": null,
   "metadata": {},
   "outputs": [],
   "source": []
  }
 ],
 "metadata": {
  "kernelspec": {
   "display_name": "Python 3 (ipykernel)",
   "language": "python",
   "name": "python3"
  },
  "language_info": {
   "codemirror_mode": {
    "name": "ipython",
    "version": 3
   },
   "file_extension": ".py",
   "mimetype": "text/x-python",
   "name": "python",
   "nbconvert_exporter": "python",
   "pygments_lexer": "ipython3",
   "version": "3.11.11"
  }
 },
 "nbformat": 4,
 "nbformat_minor": 2
}
